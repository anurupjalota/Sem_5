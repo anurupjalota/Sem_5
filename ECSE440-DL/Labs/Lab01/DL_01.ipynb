{
  "nbformat": 4,
  "nbformat_minor": 0,
  "metadata": {
    "colab": {
      "name": "DL_01.ipynb",
      "provenance": []
    },
    "kernelspec": {
      "name": "python3",
      "display_name": "Python 3"
    }
  },
  "cells": [
    {
      "cell_type": "code",
      "metadata": {
        "id": "HqS3AG2-JNu_",
        "colab_type": "code",
        "colab": {}
      },
      "source": [
        "import numpy as np\n",
        "import urllib.request\n"
      ],
      "execution_count": null,
      "outputs": []
    },
    {
      "cell_type": "code",
      "metadata": {
        "id": "-x3eqyKtOMsv",
        "colab_type": "code",
        "colab": {
          "base_uri": "https://localhost:8080/",
          "height": 34
        },
        "outputId": "1e3cafd9-94bd-492a-f9b8-3de61a914f4f"
      },
      "source": [
        "a = np.array([[1, 2, 3], [4, 5, 6]])\n",
        "b = np.array([[7, 8, 9], [10, 11, 12]])\n",
        "\n",
        "print(\"Dimension: \",a.ndim)\n"
      ],
      "execution_count": null,
      "outputs": [
        {
          "output_type": "stream",
          "text": [
            "Dimension:  2\n"
          ],
          "name": "stdout"
        }
      ]
    },
    {
      "cell_type": "code",
      "metadata": {
        "id": "ObbcnXm4OOLm",
        "colab_type": "code",
        "colab": {
          "base_uri": "https://localhost:8080/",
          "height": 235
        },
        "outputId": "381a4112-2ffa-4c60-a1d5-2a55d2eded76"
      },
      "source": [
        "print(\"Addition of a and b: \\n\",a+b)\n",
        "print(\"Transpose: \\n\",a.transpose())\n",
        "print(\"element wise multiply:\\n\",a*b)\n",
        "print(\"Dot product:\\n\",np.dot(a,b.transpose()))"
      ],
      "execution_count": null,
      "outputs": [
        {
          "output_type": "stream",
          "text": [
            "Addition of a and b: \n",
            " [[ 8 10 12]\n",
            " [14 16 18]]\n",
            "Transpose: \n",
            " [[1 4]\n",
            " [2 5]\n",
            " [3 6]]\n",
            "element wise multiply:\n",
            " [[ 7 16 27]\n",
            " [40 55 72]]\n",
            "Dot product:\n",
            " [[ 50  68]\n",
            " [122 167]]\n"
          ],
          "name": "stdout"
        }
      ]
    },
    {
      "cell_type": "code",
      "metadata": {
        "id": "sCe7OlhiMvrS",
        "colab_type": "code",
        "colab": {
          "base_uri": "https://localhost:8080/",
          "height": 34
        },
        "outputId": "efa83930-58c6-4fdf-fc0c-d45e06aa870b"
      },
      "source": [
        "print(\"1st element of a: \",a[0][0])"
      ],
      "execution_count": null,
      "outputs": [
        {
          "output_type": "stream",
          "text": [
            "1st element of a:  1\n"
          ],
          "name": "stdout"
        }
      ]
    },
    {
      "cell_type": "code",
      "metadata": {
        "id": "S9LhAy26OST_",
        "colab_type": "code",
        "colab": {
          "base_uri": "https://localhost:8080/",
          "height": 34
        },
        "outputId": "a8832b19-8540-4d41-941d-f765c5613552"
      },
      "source": [
        "urllib.request.urlretrieve(url = \"https://ndownloader.figshare.com/files/12565616\", \n",
        "                           filename = \"avg-monthly-precip.txt\")\n",
        "\n",
        "urllib.request.urlretrieve(url = \"https://ndownloader.figshare.com/files/12565619\", \n",
        "                           filename = \"months.txt\")\n"
      ],
      "execution_count": null,
      "outputs": [
        {
          "output_type": "execute_result",
          "data": {
            "text/plain": [
              "('months.txt', <http.client.HTTPMessage at 0x7fda99a38780>)"
            ]
          },
          "metadata": {
            "tags": []
          },
          "execution_count": 31
        }
      ]
    },
    {
      "cell_type": "code",
      "metadata": {
        "id": "Vtz-ou7xOrXh",
        "colab_type": "code",
        "colab": {
          "base_uri": "https://localhost:8080/",
          "height": 34
        },
        "outputId": "3c9e9b27-152e-4408-857c-2d684af4f58e"
      },
      "source": [
        "avg_monthly_precip = np.loadtxt(fname = \"avg-monthly-precip.txt\")\n",
        "print(avg_monthly_precip)"
      ],
      "execution_count": null,
      "outputs": [
        {
          "output_type": "stream",
          "text": [
            "[0.7  0.75 1.85 2.93 3.05 2.02 1.93 1.62 1.84 1.31 1.39 0.84]\n"
          ],
          "name": "stdout"
        }
      ]
    },
    {
      "cell_type": "code",
      "metadata": {
        "id": "eBumRZkhPMXA",
        "colab_type": "code",
        "colab": {
          "base_uri": "https://localhost:8080/",
          "height": 50
        },
        "outputId": "2332fccc-bd7c-468c-bb3b-0de02bdc1441"
      },
      "source": [
        "months = np.genfromtxt(\"months.txt\", dtype='str')\n",
        "print(months)"
      ],
      "execution_count": null,
      "outputs": [
        {
          "output_type": "stream",
          "text": [
            "['Jan' 'Feb' 'Mar' 'Apr' 'May' 'June' 'July' 'Aug' 'Sept' 'Oct' 'Nov'\n",
            " 'Dec']\n"
          ],
          "name": "stdout"
        }
      ]
    }
  ]
}