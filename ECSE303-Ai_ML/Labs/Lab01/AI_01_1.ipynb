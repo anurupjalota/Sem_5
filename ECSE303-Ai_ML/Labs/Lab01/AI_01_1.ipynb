{
  "nbformat": 4,
  "nbformat_minor": 0,
  "metadata": {
    "colab": {
      "name": "AI_01_1.ipynb",
      "provenance": []
    },
    "kernelspec": {
      "name": "python3",
      "display_name": "Python 3"
    }
  },
  "cells": [
    {
      "cell_type": "markdown",
      "metadata": {
        "id": "ZflX4k2xCNE7",
        "colab_type": "text"
      },
      "source": [
        "import libraries and read data\n"
      ]
    },
    {
      "cell_type": "code",
      "metadata": {
        "id": "9ERV8PiU7gN5",
        "colab_type": "code",
        "colab": {}
      },
      "source": [
        "import pandas as pd\n",
        "import numpy as np\n",
        "import matplotlib.pyplot as plt\n",
        "\n",
        "data = pd.read_csv('wine.data', names=['class', 'Alcohol','Malic acid','Ash','Alcalinity of ash', \n",
        " \t 'Magnesium',\n",
        "\t 'Total phenols',\n",
        " \t 'Flavanoids',\n",
        " \t 'Nonflavanoid phenols',\n",
        " \t 'Proanthocyanins',\n",
        "\t'Color intensity',\n",
        " \t'Hue',\n",
        " \t'OD280/OD315 of diluted wines',\n",
        "   'Proline'])\n"
      ],
      "execution_count": null,
      "outputs": []
    },
    {
      "cell_type": "markdown",
      "metadata": {
        "id": "Gsogz0A3CTO1",
        "colab_type": "text"
      },
      "source": [
        "Matrix details\n"
      ]
    },
    {
      "cell_type": "code",
      "metadata": {
        "id": "aA9hNwDCCEL_",
        "colab_type": "code",
        "colab": {
          "base_uri": "https://localhost:8080/",
          "height": 84
        },
        "outputId": "47313a9d-0105-4dc5-b54c-809932110b01"
      },
      "source": [
        "print(\"size = \",data.size)\n",
        "print(\"shape = \",data.shape)\n",
        "print(\"Rows = \",len(data))\n",
        "print(\"Columns = \",len(data.columns))\n"
      ],
      "execution_count": null,
      "outputs": [
        {
          "output_type": "stream",
          "text": [
            "size =  2492\n",
            "shape =  (178, 14)\n",
            "Rows =  178\n",
            "Columns =  14\n"
          ],
          "name": "stdout"
        }
      ]
    },
    {
      "cell_type": "markdown",
      "metadata": {
        "id": "bQUvLWeECg1O",
        "colab_type": "text"
      },
      "source": [
        "Original data\n"
      ]
    },
    {
      "cell_type": "code",
      "metadata": {
        "id": "PrIyxMcQDxUo",
        "colab_type": "code",
        "colab": {
          "base_uri": "https://localhost:8080/",
          "height": 252
        },
        "outputId": "58cacbd0-1017-41ad-8e61-1156ce6f58b1"
      },
      "source": [
        "print(\"Original Data: \",data)"
      ],
      "execution_count": null,
      "outputs": [
        {
          "output_type": "stream",
          "text": [
            "Original Data:       class  Alcohol  Malic acid  ...   Hue  OD280/OD315 of diluted wines  Proline\n",
            "0        1    14.23        1.71  ...  1.04                          3.92     1065\n",
            "1        1    13.20        1.78  ...  1.05                          3.40     1050\n",
            "2        1    13.16        2.36  ...  1.03                          3.17     1185\n",
            "3        1    14.37        1.95  ...  0.86                          3.45     1480\n",
            "4        1    13.24        2.59  ...  1.04                          2.93      735\n",
            "..     ...      ...         ...  ...   ...                           ...      ...\n",
            "173      3    13.71        5.65  ...  0.64                          1.74      740\n",
            "174      3    13.40        3.91  ...  0.70                          1.56      750\n",
            "175      3    13.27        4.28  ...  0.59                          1.56      835\n",
            "176      3    13.17        2.59  ...  0.60                          1.62      840\n",
            "177      3    14.13        4.10  ...  0.61                          1.60      560\n",
            "\n",
            "[178 rows x 14 columns]\n"
          ],
          "name": "stdout"
        }
      ]
    },
    {
      "cell_type": "markdown",
      "metadata": {
        "id": "Zly990AkCj8n",
        "colab_type": "text"
      },
      "source": [
        "Transpose data"
      ]
    },
    {
      "cell_type": "code",
      "metadata": {
        "id": "q1Y8F_2sEVSJ",
        "colab_type": "code",
        "colab": {
          "base_uri": "https://localhost:8080/",
          "height": 302
        },
        "outputId": "8b8c4850-4a41-4f28-a204-4485431ca560"
      },
      "source": [
        "print(\"Transpose: \",data.transpose())"
      ],
      "execution_count": null,
      "outputs": [
        {
          "output_type": "stream",
          "text": [
            "Transpose:                                    0        1        2    ...     175     176     177\n",
            "class                            1.00     1.00     1.00  ...    3.00    3.00    3.00\n",
            "Alcohol                         14.23    13.20    13.16  ...   13.27   13.17   14.13\n",
            "Malic acid                       1.71     1.78     2.36  ...    4.28    2.59    4.10\n",
            "Ash                              2.43     2.14     2.67  ...    2.26    2.37    2.74\n",
            "Alcalinity of ash               15.60    11.20    18.60  ...   20.00   20.00   24.50\n",
            "Magnesium                      127.00   100.00   101.00  ...  120.00  120.00   96.00\n",
            "Total phenols                    2.80     2.65     2.80  ...    1.59    1.65    2.05\n",
            "Flavanoids                       3.06     2.76     3.24  ...    0.69    0.68    0.76\n",
            "Nonflavanoid phenols             0.28     0.26     0.30  ...    0.43    0.53    0.56\n",
            "Proanthocyanins                  2.29     1.28     2.81  ...    1.35    1.46    1.35\n",
            "Color intensity                  5.64     4.38     5.68  ...   10.20    9.30    9.20\n",
            "Hue                              1.04     1.05     1.03  ...    0.59    0.60    0.61\n",
            "OD280/OD315 of diluted wines     3.92     3.40     3.17  ...    1.56    1.62    1.60\n",
            "Proline                       1065.00  1050.00  1185.00  ...  835.00  840.00  560.00\n",
            "\n",
            "[14 rows x 178 columns]\n"
          ],
          "name": "stdout"
        }
      ]
    },
    {
      "cell_type": "markdown",
      "metadata": {
        "id": "gHS1uw5oCme6",
        "colab_type": "text"
      },
      "source": [
        "Inverse"
      ]
    },
    {
      "cell_type": "code",
      "metadata": {
        "id": "xRVplxSwE1NN",
        "colab_type": "code",
        "colab": {
          "base_uri": "https://localhost:8080/",
          "height": 235
        },
        "outputId": "a550a205-fea7-4699-ec39-125ecf395dc7"
      },
      "source": [
        "print(\"Inverse: \",np.linalg.pinv(data))"
      ],
      "execution_count": null,
      "outputs": [
        {
          "output_type": "stream",
          "text": [
            "Inverse:  [[-4.54419093e-03  1.97743383e-02 -2.53172747e-04 ...  4.65721685e-03\n",
            "   1.14668342e-02 -2.99274268e-02]\n",
            " [-1.91403192e-03 -9.46930704e-04 -3.82950722e-03 ... -8.38414213e-03\n",
            "  -6.35726820e-03  4.53721038e-03]\n",
            " [-3.08808072e-03  6.59423828e-04  2.05567026e-03 ...  9.04901116e-03\n",
            "  -4.99746714e-03  2.50847071e-03]\n",
            " ...\n",
            " [-3.15542387e-02 -7.58443150e-03 -1.12894728e-04 ...  2.06454863e-02\n",
            "  -2.92694920e-02 -6.20962989e-03]\n",
            " [ 3.14342304e-02  2.31059282e-02 -1.60538327e-03 ...  1.16920945e-02\n",
            "   1.30087689e-02 -1.31715554e-02]\n",
            " [-1.40969633e-05  1.37135436e-05  2.72291537e-05 ...  1.25659704e-05\n",
            "   2.22853630e-05 -4.35155401e-05]]\n"
          ],
          "name": "stdout"
        }
      ]
    },
    {
      "cell_type": "markdown",
      "metadata": {
        "id": "pEYZKhMXCoG_",
        "colab_type": "text"
      },
      "source": [
        "DOT Product"
      ]
    },
    {
      "cell_type": "code",
      "metadata": {
        "id": "vOIcP3TSIIYr",
        "colab_type": "code",
        "colab": {
          "base_uri": "https://localhost:8080/",
          "height": 252
        },
        "outputId": "f99c428e-bf11-4d80-9fe8-61cae98d07be"
      },
      "source": [
        "print(data.dot(data.transpose()))"
      ],
      "execution_count": null,
      "outputs": [
        {
          "output_type": "stream",
          "text": [
            "              0             1    ...           176          177\n",
            "0    1.150880e+06  1.131380e+06  ...  9.104222e+05  609262.0474\n",
            "1    1.131380e+06  1.112857e+06  ...  8.944657e+05  598132.8578\n",
            "2    1.275411e+06  1.254800e+06  ...  1.008150e+06  674027.7628\n",
            "3    1.591113e+06  1.565757e+06  ...  1.257390e+06  840371.9200\n",
            "4    7.983467e+05  7.840190e+05  ...  6.322257e+05  423706.5902\n",
            "..            ...           ...  ...           ...          ...\n",
            "173  8.007586e+05  7.869768e+05  ...  6.336998e+05  424334.4945\n",
            "174  8.123279e+05  7.981965e+05  ...  6.429781e+05  430653.1555\n",
            "175  9.051057e+05  8.892232e+05  ...  7.165032e+05  479932.7886\n",
            "176  9.104222e+05  8.944657e+05  ...  7.206898e+05  482716.8900\n",
            "177  6.092620e+05  5.981329e+05  ...  4.827169e+05  323743.7128\n",
            "\n",
            "[178 rows x 178 columns]\n"
          ],
          "name": "stdout"
        }
      ]
    },
    {
      "cell_type": "markdown",
      "metadata": {
        "id": "_iYQWdYbCsYn",
        "colab_type": "text"
      },
      "source": [
        "LINE GRAPH"
      ]
    },
    {
      "cell_type": "code",
      "metadata": {
        "id": "nvCtYfM2IYQG",
        "colab_type": "code",
        "colab": {
          "base_uri": "https://localhost:8080/",
          "height": 461
        },
        "outputId": "a51c5c97-95bf-45e3-af26-645b52aded5c"
      },
      "source": [
        "data[['Alcohol','Ash']].plot.line(title=\"Wine dataset\", figsize=(7,7))"
      ],
      "execution_count": null,
      "outputs": [
        {
          "output_type": "execute_result",
          "data": {
            "text/plain": [
              "<matplotlib.axes._subplots.AxesSubplot at 0x7faa68ba84a8>"
            ]
          },
          "metadata": {
            "tags": []
          },
          "execution_count": 14
        },
        {
          "output_type": "display_data",
          "data": {
            "image/png": "[encoded data removed]",
            "text/plain": [
              "<Figure size 504x504 with 1 Axes>"
            ]
          },
          "metadata": {
            "tags": [],
            "needs_background": "light"
          }
        }
      ]
    },
    {
      "cell_type": "markdown",
      "metadata": {
        "id": "f4y8KZE0CuMv",
        "colab_type": "text"
      },
      "source": [
        "BAR GRAPH"
      ]
    },
    {
      "cell_type": "code",
      "metadata": {
        "id": "L1QhE11kQBJS",
        "colab_type": "code",
        "colab": {
          "base_uri": "https://localhost:8080/",
          "height": 282
        },
        "outputId": "ba06e433-c50d-4ff7-bc63-c970ccb0d56f"
      },
      "source": [
        "dat = data.iloc[2:6]\n",
        "dat[['Ash','Malic acid']].plot.bar()"
      ],
      "execution_count": null,
      "outputs": [
        {
          "output_type": "execute_result",
          "data": {
            "text/plain": [
              "<matplotlib.axes._subplots.AxesSubplot at 0x7faa8494e0b8>"
            ]
          },
          "metadata": {
            "tags": []
          },
          "execution_count": 8
        },
        {
          "output_type": "display_data",
          "data": {
            "image/png": "[encoded data removed]",
            "text/plain": [
              "<Figure size 432x288 with 1 Axes>"
            ]
          },
          "metadata": {
            "tags": [],
            "needs_background": "light"
          }
        }
      ]
    },
    {
      "cell_type": "markdown",
      "metadata": {
        "id": "TIWE7PuaCwo0",
        "colab_type": "text"
      },
      "source": [
        "HISTOGRAM"
      ]
    },
    {
      "cell_type": "code",
      "metadata": {
        "id": "rnk1pRCKVscj",
        "colab_type": "code",
        "colab": {
          "base_uri": "https://localhost:8080/",
          "height": 282
        },
        "outputId": "7d213b7c-9f06-4ff3-9fe2-800a97d2f50e"
      },
      "source": [
        "data[[\"Ash\"]].plot.hist()"
      ],
      "execution_count": null,
      "outputs": [
        {
          "output_type": "execute_result",
          "data": {
            "text/plain": [
              "<matplotlib.axes._subplots.AxesSubplot at 0x7faa68ea6a58>"
            ]
          },
          "metadata": {
            "tags": []
          },
          "execution_count": 9
        },
        {
          "output_type": "display_data",
          "data": {
            "image/png": "[encoded data removed]",
            "text/plain": [
              "<Figure size 432x288 with 1 Axes>"
            ]
          },
          "metadata": {
            "tags": [],
            "needs_background": "light"
          }
        }
      ]
    },
    {
      "cell_type": "markdown",
      "metadata": {
        "id": "dWIwzRV-CynB",
        "colab_type": "text"
      },
      "source": [
        "SCATTER PLOT\n"
      ]
    },
    {
      "cell_type": "code",
      "metadata": {
        "id": "13s50SzEXUga",
        "colab_type": "code",
        "colab": {
          "base_uri": "https://localhost:8080/",
          "height": 299
        },
        "outputId": "282b3ff9-b7e8-49e3-b410-feaad304b0bd"
      },
      "source": [
        "data.plot.scatter(x=\"Ash\",y=\"Alcohol\")"
      ],
      "execution_count": null,
      "outputs": [
        {
          "output_type": "execute_result",
          "data": {
            "text/plain": [
              "<matplotlib.axes._subplots.AxesSubplot at 0x7faa6bcd8a58>"
            ]
          },
          "metadata": {
            "tags": []
          },
          "execution_count": 10
        },
        {
          "output_type": "display_data",
          "data": {
            "image/png": "[encoded data removed]",
            "text/plain": [
              "<Figure size 432x288 with 1 Axes>"
            ]
          },
          "metadata": {
            "tags": [],
            "needs_background": "light"
          }
        }
      ]
    },
    {
      "cell_type": "markdown",
      "metadata": {
        "id": "QZ4PH1xEC0e9",
        "colab_type": "text"
      },
      "source": [
        "PIE CHART"
      ]
    },
    {
      "cell_type": "code",
      "metadata": {
        "id": "hlstFpyTYBPb",
        "colab_type": "code",
        "colab": {
          "base_uri": "https://localhost:8080/",
          "height": 483
        },
        "outputId": "e2ed5c31-80a8-4b6b-d25b-d6aace4be1ff"
      },
      "source": [
        "data.transpose()[0].drop([\"Proline\"], axis=0).plot.pie(y=0,figsize=(8,8))"
      ],
      "execution_count": null,
      "outputs": [
        {
          "output_type": "execute_result",
          "data": {
            "text/plain": [
              "<matplotlib.axes._subplots.AxesSubplot at 0x7faa68afc4a8>"
            ]
          },
          "metadata": {
            "tags": []
          },
          "execution_count": 16
        },
        {
          "output_type": "display_data",
          "data": {
            "image/png": "[encoded data removed]",
            "text/plain": [
              "<Figure size 576x576 with 1 Axes>"
            ]
          },
          "metadata": {
            "tags": []
          }
        }
      ]
    },
    {
      "cell_type": "markdown",
      "metadata": {
        "id": "ILyeb8aBC2ds",
        "colab_type": "text"
      },
      "source": [
        ".csv format \n"
      ]
    },
    {
      "cell_type": "code",
      "metadata": {
        "id": "tu0sZb7H6Y0d",
        "colab_type": "code",
        "colab": {
          "base_uri": "https://localhost:8080/",
          "height": 195
        },
        "outputId": "8d076818-1eeb-45d9-dd75-5045aef9cd36"
      },
      "source": [
        "data = pd.read_csv(\"Placement_Data_Full_Class.csv\")\n",
        "data.head()"
      ],
      "execution_count": null,
      "outputs": [
        {
          "output_type": "execute_result",
          "data": {
            "text/html": [
              "<div>\n",
              "<style scoped>\n",
              "    .dataframe tbody tr th:only-of-type {\n",
              "        vertical-align: middle;\n",
              "    }\n",
              "\n",
              "    .dataframe tbody tr th {\n",
              "        vertical-align: top;\n",
              "    }\n",
              "\n",
              "    .dataframe thead th {\n",
              "        text-align: right;\n",
              "    }\n",
              "</style>\n",
              "<table border=\"1\" class=\"dataframe\">\n",
              "  <thead>\n",
              "    <tr style=\"text-align: right;\">\n",
              "      <th></th>\n",
              "      <th>sl_no</th>\n",
              "      <th>gender</th>\n",
              "      <th>ssc_p</th>\n",
              "      <th>ssc_b</th>\n",
              "      <th>hsc_p</th>\n",
              "      <th>hsc_b</th>\n",
              "      <th>hsc_s</th>\n",
              "      <th>degree_p</th>\n",
              "      <th>degree_t</th>\n",
              "      <th>workex</th>\n",
              "      <th>etest_p</th>\n",
              "      <th>specialisation</th>\n",
              "      <th>mba_p</th>\n",
              "      <th>status</th>\n",
              "      <th>salary</th>\n",
              "    </tr>\n",
              "  </thead>\n",
              "  <tbody>\n",
              "    <tr>\n",
              "      <th>0</th>\n",
              "      <td>1</td>\n",
              "      <td>M</td>\n",
              "      <td>67.00</td>\n",
              "      <td>Others</td>\n",
              "      <td>91.00</td>\n",
              "      <td>Others</td>\n",
              "      <td>Commerce</td>\n",
              "      <td>58.00</td>\n",
              "      <td>Sci&amp;Tech</td>\n",
              "      <td>No</td>\n",
              "      <td>55.0</td>\n",
              "      <td>Mkt&amp;HR</td>\n",
              "      <td>58.80</td>\n",
              "      <td>Placed</td>\n",
              "      <td>270000.0</td>\n",
              "    </tr>\n",
              "    <tr>\n",
              "      <th>1</th>\n",
              "      <td>2</td>\n",
              "      <td>M</td>\n",
              "      <td>79.33</td>\n",
              "      <td>Central</td>\n",
              "      <td>78.33</td>\n",
              "      <td>Others</td>\n",
              "      <td>Science</td>\n",
              "      <td>77.48</td>\n",
              "      <td>Sci&amp;Tech</td>\n",
              "      <td>Yes</td>\n",
              "      <td>86.5</td>\n",
              "      <td>Mkt&amp;Fin</td>\n",
              "      <td>66.28</td>\n",
              "      <td>Placed</td>\n",
              "      <td>200000.0</td>\n",
              "    </tr>\n",
              "    <tr>\n",
              "      <th>2</th>\n",
              "      <td>3</td>\n",
              "      <td>M</td>\n",
              "      <td>65.00</td>\n",
              "      <td>Central</td>\n",
              "      <td>68.00</td>\n",
              "      <td>Central</td>\n",
              "      <td>Arts</td>\n",
              "      <td>64.00</td>\n",
              "      <td>Comm&amp;Mgmt</td>\n",
              "      <td>No</td>\n",
              "      <td>75.0</td>\n",
              "      <td>Mkt&amp;Fin</td>\n",
              "      <td>57.80</td>\n",
              "      <td>Placed</td>\n",
              "      <td>250000.0</td>\n",
              "    </tr>\n",
              "    <tr>\n",
              "      <th>3</th>\n",
              "      <td>4</td>\n",
              "      <td>M</td>\n",
              "      <td>56.00</td>\n",
              "      <td>Central</td>\n",
              "      <td>52.00</td>\n",
              "      <td>Central</td>\n",
              "      <td>Science</td>\n",
              "      <td>52.00</td>\n",
              "      <td>Sci&amp;Tech</td>\n",
              "      <td>No</td>\n",
              "      <td>66.0</td>\n",
              "      <td>Mkt&amp;HR</td>\n",
              "      <td>59.43</td>\n",
              "      <td>Not Placed</td>\n",
              "      <td>NaN</td>\n",
              "    </tr>\n",
              "    <tr>\n",
              "      <th>4</th>\n",
              "      <td>5</td>\n",
              "      <td>M</td>\n",
              "      <td>85.80</td>\n",
              "      <td>Central</td>\n",
              "      <td>73.60</td>\n",
              "      <td>Central</td>\n",
              "      <td>Commerce</td>\n",
              "      <td>73.30</td>\n",
              "      <td>Comm&amp;Mgmt</td>\n",
              "      <td>No</td>\n",
              "      <td>96.8</td>\n",
              "      <td>Mkt&amp;Fin</td>\n",
              "      <td>55.50</td>\n",
              "      <td>Placed</td>\n",
              "      <td>425000.0</td>\n",
              "    </tr>\n",
              "  </tbody>\n",
              "</table>\n",
              "</div>"
            ],
            "text/plain": [
              "   sl_no gender  ssc_p    ssc_b  ...  specialisation  mba_p      status    salary\n",
              "0      1      M  67.00   Others  ...          Mkt&HR  58.80      Placed  270000.0\n",
              "1      2      M  79.33  Central  ...         Mkt&Fin  66.28      Placed  200000.0\n",
              "2      3      M  65.00  Central  ...         Mkt&Fin  57.80      Placed  250000.0\n",
              "3      4      M  56.00  Central  ...          Mkt&HR  59.43  Not Placed       NaN\n",
              "4      5      M  85.80  Central  ...         Mkt&Fin  55.50      Placed  425000.0\n",
              "\n",
              "[5 rows x 15 columns]"
            ]
          },
          "metadata": {
            "tags": []
          },
          "execution_count": 26
        }
      ]
    },
    {
      "cell_type": "markdown",
      "metadata": {
        "id": "iv340B5qE1RA",
        "colab_type": "text"
      },
      "source": [
        ".tsv format\n"
      ]
    },
    {
      "cell_type": "code",
      "metadata": {
        "id": "ILzfD2XPE3Bq",
        "colab_type": "code",
        "colab": {
          "base_uri": "https://localhost:8080/",
          "height": 195
        },
        "outputId": "af7b1328-c985-4c16-b64b-ba22d682a4b8"
      },
      "source": [
        "data = pd.read_csv(\"custdata2.tsv\", sep=\"\\t\")\n",
        "data.head()"
      ],
      "execution_count": null,
      "outputs": [
        {
          "output_type": "execute_result",
          "data": {
            "text/html": [
              "<div>\n",
              "<style scoped>\n",
              "    .dataframe tbody tr th:only-of-type {\n",
              "        vertical-align: middle;\n",
              "    }\n",
              "\n",
              "    .dataframe tbody tr th {\n",
              "        vertical-align: top;\n",
              "    }\n",
              "\n",
              "    .dataframe thead th {\n",
              "        text-align: right;\n",
              "    }\n",
              "</style>\n",
              "<table border=\"1\" class=\"dataframe\">\n",
              "  <thead>\n",
              "    <tr style=\"text-align: right;\">\n",
              "      <th></th>\n",
              "      <th>custid</th>\n",
              "      <th>sex</th>\n",
              "      <th>is.employed</th>\n",
              "      <th>income</th>\n",
              "      <th>marital.stat</th>\n",
              "      <th>health.ins</th>\n",
              "      <th>housing.type</th>\n",
              "      <th>recent.move</th>\n",
              "      <th>num.vehicles</th>\n",
              "      <th>age</th>\n",
              "      <th>state.of.res</th>\n",
              "    </tr>\n",
              "  </thead>\n",
              "  <tbody>\n",
              "    <tr>\n",
              "      <th>0</th>\n",
              "      <td>2068</td>\n",
              "      <td>F</td>\n",
              "      <td>NaN</td>\n",
              "      <td>11300</td>\n",
              "      <td>Married</td>\n",
              "      <td>True</td>\n",
              "      <td>Homeowner free and clear</td>\n",
              "      <td>False</td>\n",
              "      <td>2.0</td>\n",
              "      <td>49</td>\n",
              "      <td>Michigan</td>\n",
              "    </tr>\n",
              "    <tr>\n",
              "      <th>1</th>\n",
              "      <td>2848</td>\n",
              "      <td>M</td>\n",
              "      <td>True</td>\n",
              "      <td>4500</td>\n",
              "      <td>Never Married</td>\n",
              "      <td>False</td>\n",
              "      <td>Rented</td>\n",
              "      <td>True</td>\n",
              "      <td>3.0</td>\n",
              "      <td>22</td>\n",
              "      <td>Georgia</td>\n",
              "    </tr>\n",
              "    <tr>\n",
              "      <th>2</th>\n",
              "      <td>5641</td>\n",
              "      <td>M</td>\n",
              "      <td>True</td>\n",
              "      <td>20000</td>\n",
              "      <td>Never Married</td>\n",
              "      <td>False</td>\n",
              "      <td>Occupied with no rent</td>\n",
              "      <td>False</td>\n",
              "      <td>0.0</td>\n",
              "      <td>22</td>\n",
              "      <td>New Mexico</td>\n",
              "    </tr>\n",
              "    <tr>\n",
              "      <th>3</th>\n",
              "      <td>6369</td>\n",
              "      <td>F</td>\n",
              "      <td>True</td>\n",
              "      <td>12000</td>\n",
              "      <td>Never Married</td>\n",
              "      <td>True</td>\n",
              "      <td>Rented</td>\n",
              "      <td>True</td>\n",
              "      <td>1.0</td>\n",
              "      <td>31</td>\n",
              "      <td>Florida</td>\n",
              "    </tr>\n",
              "    <tr>\n",
              "      <th>4</th>\n",
              "      <td>8322</td>\n",
              "      <td>F</td>\n",
              "      <td>True</td>\n",
              "      <td>180000</td>\n",
              "      <td>Never Married</td>\n",
              "      <td>True</td>\n",
              "      <td>Homeowner with mortgage/loan</td>\n",
              "      <td>False</td>\n",
              "      <td>1.0</td>\n",
              "      <td>40</td>\n",
              "      <td>New York</td>\n",
              "    </tr>\n",
              "  </tbody>\n",
              "</table>\n",
              "</div>"
            ],
            "text/plain": [
              "   custid sex is.employed  income  ... recent.move  num.vehicles age state.of.res\n",
              "0    2068   F         NaN   11300  ...       False           2.0  49     Michigan\n",
              "1    2848   M        True    4500  ...        True           3.0  22      Georgia\n",
              "2    5641   M        True   20000  ...       False           0.0  22   New Mexico\n",
              "3    6369   F        True   12000  ...        True           1.0  31      Florida\n",
              "4    8322   F        True  180000  ...       False           1.0  40     New York\n",
              "\n",
              "[5 rows x 11 columns]"
            ]
          },
          "metadata": {
            "tags": []
          },
          "execution_count": 33
        }
      ]
    },
    {
      "cell_type": "markdown",
      "metadata": {
        "id": "Li-mPrbQHwAD",
        "colab_type": "text"
      },
      "source": [
        ".arff format"
      ]
    },
    {
      "cell_type": "code",
      "metadata": {
        "id": "CyQMus1KHxoU",
        "colab_type": "code",
        "colab": {
          "base_uri": "https://localhost:8080/",
          "height": 195
        },
        "outputId": "e71e8dc0-e0aa-488d-a881-07d07127b401"
      },
      "source": [
        "from scipy.io import arff\n",
        "data = arff.loadarff('weather.arff')\n",
        "df = pd.DataFrame(data[0])\n",
        "\n",
        "df.head()"
      ],
      "execution_count": null,
      "outputs": [
        {
          "output_type": "execute_result",
          "data": {
            "text/html": [
              "<div>\n",
              "<style scoped>\n",
              "    .dataframe tbody tr th:only-of-type {\n",
              "        vertical-align: middle;\n",
              "    }\n",
              "\n",
              "    .dataframe tbody tr th {\n",
              "        vertical-align: top;\n",
              "    }\n",
              "\n",
              "    .dataframe thead th {\n",
              "        text-align: right;\n",
              "    }\n",
              "</style>\n",
              "<table border=\"1\" class=\"dataframe\">\n",
              "  <thead>\n",
              "    <tr style=\"text-align: right;\">\n",
              "      <th></th>\n",
              "      <th>outlook</th>\n",
              "      <th>temperature</th>\n",
              "      <th>humidity</th>\n",
              "      <th>windy</th>\n",
              "      <th>play</th>\n",
              "    </tr>\n",
              "  </thead>\n",
              "  <tbody>\n",
              "    <tr>\n",
              "      <th>0</th>\n",
              "      <td>b'sunny'</td>\n",
              "      <td>85.0</td>\n",
              "      <td>85.0</td>\n",
              "      <td>b'FALSE'</td>\n",
              "      <td>b'no'</td>\n",
              "    </tr>\n",
              "    <tr>\n",
              "      <th>1</th>\n",
              "      <td>b'sunny'</td>\n",
              "      <td>80.0</td>\n",
              "      <td>90.0</td>\n",
              "      <td>b'TRUE'</td>\n",
              "      <td>b'no'</td>\n",
              "    </tr>\n",
              "    <tr>\n",
              "      <th>2</th>\n",
              "      <td>b'overcast'</td>\n",
              "      <td>83.0</td>\n",
              "      <td>86.0</td>\n",
              "      <td>b'FALSE'</td>\n",
              "      <td>b'yes'</td>\n",
              "    </tr>\n",
              "    <tr>\n",
              "      <th>3</th>\n",
              "      <td>b'rainy'</td>\n",
              "      <td>70.0</td>\n",
              "      <td>96.0</td>\n",
              "      <td>b'FALSE'</td>\n",
              "      <td>b'yes'</td>\n",
              "    </tr>\n",
              "    <tr>\n",
              "      <th>4</th>\n",
              "      <td>b'rainy'</td>\n",
              "      <td>68.0</td>\n",
              "      <td>80.0</td>\n",
              "      <td>b'FALSE'</td>\n",
              "      <td>b'yes'</td>\n",
              "    </tr>\n",
              "  </tbody>\n",
              "</table>\n",
              "</div>"
            ],
            "text/plain": [
              "       outlook  temperature  humidity     windy    play\n",
              "0     b'sunny'         85.0      85.0  b'FALSE'   b'no'\n",
              "1     b'sunny'         80.0      90.0   b'TRUE'   b'no'\n",
              "2  b'overcast'         83.0      86.0  b'FALSE'  b'yes'\n",
              "3     b'rainy'         70.0      96.0  b'FALSE'  b'yes'\n",
              "4     b'rainy'         68.0      80.0  b'FALSE'  b'yes'"
            ]
          },
          "metadata": {
            "tags": []
          },
          "execution_count": 34
        }
      ]
    },
    {
      "cell_type": "markdown",
      "metadata": {
        "id": "erFMcxR7Dof4",
        "colab_type": "text"
      },
      "source": [
        ".xlsx format\n"
      ]
    },
    {
      "cell_type": "code",
      "metadata": {
        "id": "5_UvzCFYDnzQ",
        "colab_type": "code",
        "colab": {
          "base_uri": "https://localhost:8080/",
          "height": 299
        },
        "outputId": "ec2b13f4-f6b0-4c09-d5ec-d2da852229ac"
      },
      "source": [
        "data = pd.read_excel(\"c_bank.xlsx\")\n",
        "data.head()"
      ],
      "execution_count": null,
      "outputs": [
        {
          "output_type": "execute_result",
          "data": {
            "text/html": [
              "<div>\n",
              "<style scoped>\n",
              "    .dataframe tbody tr th:only-of-type {\n",
              "        vertical-align: middle;\n",
              "    }\n",
              "\n",
              "    .dataframe tbody tr th {\n",
              "        vertical-align: top;\n",
              "    }\n",
              "\n",
              "    .dataframe thead th {\n",
              "        text-align: right;\n",
              "    }\n",
              "</style>\n",
              "<table border=\"1\" class=\"dataframe\">\n",
              "  <thead>\n",
              "    <tr style=\"text-align: right;\">\n",
              "      <th></th>\n",
              "      <th>date</th>\n",
              "      <th>dual_currency_basket</th>\n",
              "      <th>EUR_978</th>\n",
              "      <th>USD_840</th>\n",
              "      <th>k_JPY</th>\n",
              "      <th>JPY_392_100</th>\n",
              "      <th>JPY_392</th>\n",
              "      <th>k_CNY</th>\n",
              "      <th>CNY_156_k</th>\n",
              "      <th>CNY_156</th>\n",
              "      <th>BRL_986</th>\n",
              "      <th>k_INR</th>\n",
              "      <th>INR_356_k</th>\n",
              "      <th>INR_356</th>\n",
              "      <th>gold</th>\n",
              "      <th>silver</th>\n",
              "      <th>platinum</th>\n",
              "      <th>palladium</th>\n",
              "      <th>foreign_exchange_reserves</th>\n",
              "      <th>monetary_gold</th>\n",
              "    </tr>\n",
              "  </thead>\n",
              "  <tbody>\n",
              "    <tr>\n",
              "      <th>0</th>\n",
              "      <td>2012-01-11</td>\n",
              "      <td>35.8717</td>\n",
              "      <td>40.7591</td>\n",
              "      <td>31.8729</td>\n",
              "      <td>100</td>\n",
              "      <td>41.4931</td>\n",
              "      <td>0.414931</td>\n",
              "      <td>10</td>\n",
              "      <td>50.4805</td>\n",
              "      <td>5.04805</td>\n",
              "      <td>17.3884</td>\n",
              "      <td>100</td>\n",
              "      <td>60.9978</td>\n",
              "      <td>0.609978</td>\n",
              "      <td>1667.25</td>\n",
              "      <td>29.56</td>\n",
              "      <td>1495.09</td>\n",
              "      <td>648.66</td>\n",
              "      <td>453 952</td>\n",
              "      <td>44 697</td>\n",
              "    </tr>\n",
              "    <tr>\n",
              "      <th>1</th>\n",
              "      <td>2012-01-12</td>\n",
              "      <td>35.6115</td>\n",
              "      <td>40.4061</td>\n",
              "      <td>31.6886</td>\n",
              "      <td>100</td>\n",
              "      <td>41.1968</td>\n",
              "      <td>0.411968</td>\n",
              "      <td>10</td>\n",
              "      <td>50.1576</td>\n",
              "      <td>5.01576</td>\n",
              "      <td>17.6077</td>\n",
              "      <td>100</td>\n",
              "      <td>61.3318</td>\n",
              "      <td>0.613318</td>\n",
              "      <td>1671.87</td>\n",
              "      <td>30.25</td>\n",
              "      <td>1512.93</td>\n",
              "      <td>653.06</td>\n",
              "      <td>453 952</td>\n",
              "      <td>44 697</td>\n",
              "    </tr>\n",
              "    <tr>\n",
              "      <th>2</th>\n",
              "      <td>2012-01-13</td>\n",
              "      <td>35.5527</td>\n",
              "      <td>40.2852</td>\n",
              "      <td>31.6807</td>\n",
              "      <td>100</td>\n",
              "      <td>41.1999</td>\n",
              "      <td>0.411999</td>\n",
              "      <td>10</td>\n",
              "      <td>50.1467</td>\n",
              "      <td>5.01467</td>\n",
              "      <td>17.5711</td>\n",
              "      <td>100</td>\n",
              "      <td>61.1597</td>\n",
              "      <td>0.611597</td>\n",
              "      <td>1683.17</td>\n",
              "      <td>30.36</td>\n",
              "      <td>1527.84</td>\n",
              "      <td>652.90</td>\n",
              "      <td>453 952</td>\n",
              "      <td>44 697</td>\n",
              "    </tr>\n",
              "    <tr>\n",
              "      <th>3</th>\n",
              "      <td>2012-01-14</td>\n",
              "      <td>35.6492</td>\n",
              "      <td>40.6189</td>\n",
              "      <td>31.5830</td>\n",
              "      <td>100</td>\n",
              "      <td>41.1585</td>\n",
              "      <td>0.411585</td>\n",
              "      <td>10</td>\n",
              "      <td>50.0507</td>\n",
              "      <td>5.00507</td>\n",
              "      <td>17.7632</td>\n",
              "      <td>100</td>\n",
              "      <td>61.4904</td>\n",
              "      <td>0.614904</td>\n",
              "      <td>1667.31</td>\n",
              "      <td>31.05</td>\n",
              "      <td>1505.86</td>\n",
              "      <td>641.74</td>\n",
              "      <td>453 952</td>\n",
              "      <td>44 697</td>\n",
              "    </tr>\n",
              "    <tr>\n",
              "      <th>4</th>\n",
              "      <td>2012-01-17</td>\n",
              "      <td>35.7368</td>\n",
              "      <td>40.3842</td>\n",
              "      <td>31.9344</td>\n",
              "      <td>100</td>\n",
              "      <td>41.5840</td>\n",
              "      <td>0.415840</td>\n",
              "      <td>10</td>\n",
              "      <td>50.5843</td>\n",
              "      <td>5.05843</td>\n",
              "      <td>17.8914</td>\n",
              "      <td>100</td>\n",
              "      <td>62.0387</td>\n",
              "      <td>0.620387</td>\n",
              "      <td>1687.40</td>\n",
              "      <td>30.43</td>\n",
              "      <td>1528.78</td>\n",
              "      <td>657.10</td>\n",
              "      <td>453 952</td>\n",
              "      <td>44 697</td>\n",
              "    </tr>\n",
              "  </tbody>\n",
              "</table>\n",
              "</div>"
            ],
            "text/plain": [
              "        date  dual_currency_basket  ...  foreign_exchange_reserves  monetary_gold\n",
              "0 2012-01-11               35.8717  ...                    453 952         44 697\n",
              "1 2012-01-12               35.6115  ...                    453 952         44 697\n",
              "2 2012-01-13               35.5527  ...                    453 952         44 697\n",
              "3 2012-01-14               35.6492  ...                    453 952         44 697\n",
              "4 2012-01-17               35.7368  ...                    453 952         44 697\n",
              "\n",
              "[5 rows x 20 columns]"
            ]
          },
          "metadata": {
            "tags": []
          },
          "execution_count": 28
        }
      ]
    },
    {
      "cell_type": "markdown",
      "metadata": {
        "id": "Fxl5K9CLEQBE",
        "colab_type": "text"
      },
      "source": [
        ".ods format"
      ]
    },
    {
      "cell_type": "code",
      "metadata": {
        "id": "Hi7MA56iIQ3L",
        "colab_type": "code",
        "colab": {
          "base_uri": "https://localhost:8080/",
          "height": 674
        },
        "outputId": "e3868372-ec16-4e00-e3b1-a32179472046"
      },
      "source": [
        "# pip install odfpy\n",
        "pd.read_excel(\"Football-UEFA U17 Championship 2019.ods\", engine=\"odf\")"
      ],
      "execution_count": null,
      "outputs": [
        {
          "output_type": "execute_result",
          "data": {
            "text/html": [
              "<div>\n",
              "<style scoped>\n",
              "    .dataframe tbody tr th:only-of-type {\n",
              "        vertical-align: middle;\n",
              "    }\n",
              "\n",
              "    .dataframe tbody tr th {\n",
              "        vertical-align: top;\n",
              "    }\n",
              "\n",
              "    .dataframe thead th {\n",
              "        text-align: right;\n",
              "    }\n",
              "</style>\n",
              "<table border=\"1\" class=\"dataframe\">\n",
              "  <thead>\n",
              "    <tr style=\"text-align: right;\">\n",
              "      <th></th>\n",
              "      <th>time</th>\n",
              "      <th>day</th>\n",
              "      <th>date</th>\n",
              "      <th>year</th>\n",
              "      <th>sport</th>\n",
              "      <th>competition</th>\n",
              "      <th>Stage / Phase</th>\n",
              "      <th>round</th>\n",
              "      <th>Stadium</th>\n",
              "      <th>Team Coach</th>\n",
              "      <th>Team</th>\n",
              "      <th>W/L/D</th>\n",
              "      <th>Res</th>\n",
              "      <th>Res I half</th>\n",
              "      <th>Opponent</th>\n",
              "      <th>Opponent Coach</th>\n",
              "      <th>Ball Possession</th>\n",
              "      <th>Goal Attempts</th>\n",
              "      <th>Shots on Goal</th>\n",
              "      <th>Shots off Goal</th>\n",
              "      <th>Blocked Shots</th>\n",
              "      <th>Free Kicks</th>\n",
              "      <th>Corner Kicks</th>\n",
              "      <th>Offsides</th>\n",
              "      <th>Throw-in</th>\n",
              "      <th>Goalkeeper Saves</th>\n",
              "      <th>Fouls</th>\n",
              "      <th>Yellow Cards</th>\n",
              "      <th>Red Cards</th>\n",
              "    </tr>\n",
              "  </thead>\n",
              "  <tbody>\n",
              "    <tr>\n",
              "      <th>0</th>\n",
              "      <td>19h00</td>\n",
              "      <td>Mo</td>\n",
              "      <td>05-13</td>\n",
              "      <td>2019</td>\n",
              "      <td>Football</td>\n",
              "      <td>European Champ.</td>\n",
              "      <td>KN P</td>\n",
              "      <td>Finals</td>\n",
              "      <td>Tallaght Stadium - Dublin</td>\n",
              "      <td>Peter van der Veen</td>\n",
              "      <td>Netherlands U17</td>\n",
              "      <td>W</td>\n",
              "      <td>4 – 2</td>\n",
              "      <td>3 – 0</td>\n",
              "      <td>Italy U17</td>\n",
              "      <td>Carmine Nunziata</td>\n",
              "      <td>54%</td>\n",
              "      <td>19</td>\n",
              "      <td>10</td>\n",
              "      <td>7</td>\n",
              "      <td>2</td>\n",
              "      <td>24</td>\n",
              "      <td>5</td>\n",
              "      <td>3</td>\n",
              "      <td>34</td>\n",
              "      <td>4</td>\n",
              "      <td>13</td>\n",
              "      <td>3</td>\n",
              "      <td>0</td>\n",
              "    </tr>\n",
              "    <tr>\n",
              "      <th>1</th>\n",
              "      <td>19h00</td>\n",
              "      <td>Mo</td>\n",
              "      <td>05-13</td>\n",
              "      <td>2019</td>\n",
              "      <td>Football</td>\n",
              "      <td>European Champ.</td>\n",
              "      <td>KN P</td>\n",
              "      <td>Finals</td>\n",
              "      <td>Tallaght Stadium - Dublin</td>\n",
              "      <td>Carmine Nunziata</td>\n",
              "      <td>Italy U17</td>\n",
              "      <td>L</td>\n",
              "      <td>2 – 4</td>\n",
              "      <td>0 – 3</td>\n",
              "      <td>Netherlands U17</td>\n",
              "      <td>Peter van der Veen</td>\n",
              "      <td>46%</td>\n",
              "      <td>14</td>\n",
              "      <td>6</td>\n",
              "      <td>6</td>\n",
              "      <td>2</td>\n",
              "      <td>18</td>\n",
              "      <td>7</td>\n",
              "      <td>6</td>\n",
              "      <td>28</td>\n",
              "      <td>6</td>\n",
              "      <td>18</td>\n",
              "      <td>3</td>\n",
              "      <td>0</td>\n",
              "    </tr>\n",
              "    <tr>\n",
              "      <th>2</th>\n",
              "      <td>16h30</td>\n",
              "      <td>Mo</td>\n",
              "      <td>05-16</td>\n",
              "      <td>2019</td>\n",
              "      <td>Football</td>\n",
              "      <td>European Champ.</td>\n",
              "      <td>KN P</td>\n",
              "      <td>1/2finals</td>\n",
              "      <td>Belfield Bowl, UCD - Dublin</td>\n",
              "      <td>Peter van der Veen</td>\n",
              "      <td>Netherlands U17</td>\n",
              "      <td>W</td>\n",
              "      <td>1 – 0</td>\n",
              "      <td>0 – 0</td>\n",
              "      <td>Spain U17</td>\n",
              "      <td>David Gordo</td>\n",
              "      <td>48%</td>\n",
              "      <td>10</td>\n",
              "      <td>4</td>\n",
              "      <td>1</td>\n",
              "      <td>5</td>\n",
              "      <td>23</td>\n",
              "      <td>4</td>\n",
              "      <td>2</td>\n",
              "      <td>15</td>\n",
              "      <td>2</td>\n",
              "      <td>24</td>\n",
              "      <td>4</td>\n",
              "      <td>0</td>\n",
              "    </tr>\n",
              "    <tr>\n",
              "      <th>3</th>\n",
              "      <td>16h30</td>\n",
              "      <td>Mo</td>\n",
              "      <td>05-16</td>\n",
              "      <td>2019</td>\n",
              "      <td>Football</td>\n",
              "      <td>European Champ.</td>\n",
              "      <td>KN P</td>\n",
              "      <td>1/2finals</td>\n",
              "      <td>Belfield Bowl, UCD - Dublin</td>\n",
              "      <td>David Gordo</td>\n",
              "      <td>Spain U17</td>\n",
              "      <td>L</td>\n",
              "      <td>0 – 1</td>\n",
              "      <td>0 – 0</td>\n",
              "      <td>Netherlands U17</td>\n",
              "      <td>Peter van der Veen</td>\n",
              "      <td>52%</td>\n",
              "      <td>5</td>\n",
              "      <td>2</td>\n",
              "      <td>3</td>\n",
              "      <td>0</td>\n",
              "      <td>25</td>\n",
              "      <td>2</td>\n",
              "      <td>4</td>\n",
              "      <td>29</td>\n",
              "      <td>3</td>\n",
              "      <td>19</td>\n",
              "      <td>3</td>\n",
              "      <td>0</td>\n",
              "    </tr>\n",
              "    <tr>\n",
              "      <th>4</th>\n",
              "      <td>19h00</td>\n",
              "      <td>Mo</td>\n",
              "      <td>05-16</td>\n",
              "      <td>2019</td>\n",
              "      <td>Football</td>\n",
              "      <td>European Champ.</td>\n",
              "      <td>KN P</td>\n",
              "      <td>1/2finals</td>\n",
              "      <td>Tallaght Stadium - Dublin</td>\n",
              "      <td>Jean-Claude Giuntini</td>\n",
              "      <td>France U17</td>\n",
              "      <td>L</td>\n",
              "      <td>1 – 2</td>\n",
              "      <td>1 – 1</td>\n",
              "      <td>Italy U17</td>\n",
              "      <td>Carmine Nunziata</td>\n",
              "      <td>57%</td>\n",
              "      <td>13</td>\n",
              "      <td>4</td>\n",
              "      <td>6</td>\n",
              "      <td>3</td>\n",
              "      <td>11</td>\n",
              "      <td>9</td>\n",
              "      <td>2</td>\n",
              "      <td>38</td>\n",
              "      <td>0</td>\n",
              "      <td>7</td>\n",
              "      <td>0</td>\n",
              "      <td>0</td>\n",
              "    </tr>\n",
              "    <tr>\n",
              "      <th>...</th>\n",
              "      <td>...</td>\n",
              "      <td>...</td>\n",
              "      <td>...</td>\n",
              "      <td>...</td>\n",
              "      <td>...</td>\n",
              "      <td>...</td>\n",
              "      <td>...</td>\n",
              "      <td>...</td>\n",
              "      <td>...</td>\n",
              "      <td>...</td>\n",
              "      <td>...</td>\n",
              "      <td>...</td>\n",
              "      <td>...</td>\n",
              "      <td>...</td>\n",
              "      <td>...</td>\n",
              "      <td>...</td>\n",
              "      <td>...</td>\n",
              "      <td>...</td>\n",
              "      <td>...</td>\n",
              "      <td>...</td>\n",
              "      <td>...</td>\n",
              "      <td>...</td>\n",
              "      <td>...</td>\n",
              "      <td>...</td>\n",
              "      <td>...</td>\n",
              "      <td>...</td>\n",
              "      <td>...</td>\n",
              "      <td>...</td>\n",
              "      <td>...</td>\n",
              "    </tr>\n",
              "    <tr>\n",
              "      <th>62</th>\n",
              "      <td>14h00</td>\n",
              "      <td>Sa</td>\n",
              "      <td>05-04</td>\n",
              "      <td>2019</td>\n",
              "      <td>Football</td>\n",
              "      <td>European Champ.</td>\n",
              "      <td>Group</td>\n",
              "      <td>Rnd 1</td>\n",
              "      <td>Whitehall - Dublin</td>\n",
              "      <td>Dmitri Khomukha</td>\n",
              "      <td>Russia U17</td>\n",
              "      <td>L</td>\n",
              "      <td>2 – 3</td>\n",
              "      <td>0 – 3</td>\n",
              "      <td>Iceland U17</td>\n",
              "      <td>David Jonasson</td>\n",
              "      <td>52%</td>\n",
              "      <td>12</td>\n",
              "      <td>6</td>\n",
              "      <td>5</td>\n",
              "      <td>1</td>\n",
              "      <td>14</td>\n",
              "      <td>7</td>\n",
              "      <td>1</td>\n",
              "      <td>21</td>\n",
              "      <td>0</td>\n",
              "      <td>21</td>\n",
              "      <td>0</td>\n",
              "      <td>0</td>\n",
              "    </tr>\n",
              "    <tr>\n",
              "      <th>63</th>\n",
              "      <td>19h00</td>\n",
              "      <td>Fr</td>\n",
              "      <td>05-03</td>\n",
              "      <td>2019</td>\n",
              "      <td>Football</td>\n",
              "      <td>European Champ.</td>\n",
              "      <td>Group</td>\n",
              "      <td>Rnd 1</td>\n",
              "      <td>Tallaght Stadium - Dublin</td>\n",
              "      <td>Colin O'Brien</td>\n",
              "      <td>Ireland U17</td>\n",
              "      <td>D</td>\n",
              "      <td>1 – 1</td>\n",
              "      <td>0 – 0</td>\n",
              "      <td>Greece U17</td>\n",
              "      <td>Nikos Kehagias</td>\n",
              "      <td>51%</td>\n",
              "      <td>8</td>\n",
              "      <td>1</td>\n",
              "      <td>5</td>\n",
              "      <td>2</td>\n",
              "      <td>17</td>\n",
              "      <td>5</td>\n",
              "      <td>0</td>\n",
              "      <td>26</td>\n",
              "      <td>2</td>\n",
              "      <td>19</td>\n",
              "      <td>4</td>\n",
              "      <td>0</td>\n",
              "    </tr>\n",
              "    <tr>\n",
              "      <th>64</th>\n",
              "      <td>19h00</td>\n",
              "      <td>Fr</td>\n",
              "      <td>05-03</td>\n",
              "      <td>2019</td>\n",
              "      <td>Football</td>\n",
              "      <td>European Champ.</td>\n",
              "      <td>Group</td>\n",
              "      <td>Rnd 1</td>\n",
              "      <td>Tallaght Stadium - Dublin</td>\n",
              "      <td>Nikos Kehagias</td>\n",
              "      <td>Greece U17</td>\n",
              "      <td>D</td>\n",
              "      <td>1 – 1</td>\n",
              "      <td>0 – 0</td>\n",
              "      <td>Ireland U17</td>\n",
              "      <td>Colin O'Brien</td>\n",
              "      <td>49%</td>\n",
              "      <td>7</td>\n",
              "      <td>3</td>\n",
              "      <td>4</td>\n",
              "      <td>0</td>\n",
              "      <td>20</td>\n",
              "      <td>4</td>\n",
              "      <td>2</td>\n",
              "      <td>22</td>\n",
              "      <td>0</td>\n",
              "      <td>13</td>\n",
              "      <td>2</td>\n",
              "      <td>0</td>\n",
              "    </tr>\n",
              "    <tr>\n",
              "      <th>65</th>\n",
              "      <td>12h00</td>\n",
              "      <td>Fr</td>\n",
              "      <td>05-03</td>\n",
              "      <td>2019</td>\n",
              "      <td>Football</td>\n",
              "      <td>European Champ.</td>\n",
              "      <td>Group</td>\n",
              "      <td>Rnd 1</td>\n",
              "      <td>Tolka Park - Dublin</td>\n",
              "      <td>Vaclav Kotal</td>\n",
              "      <td>Czech Republic U17</td>\n",
              "      <td>D</td>\n",
              "      <td>1 – 1</td>\n",
              "      <td>0 – 0</td>\n",
              "      <td>Belgium U17</td>\n",
              "      <td>Bob Browaeys</td>\n",
              "      <td>44%</td>\n",
              "      <td>6</td>\n",
              "      <td>2</td>\n",
              "      <td>2</td>\n",
              "      <td>2</td>\n",
              "      <td>20</td>\n",
              "      <td>8</td>\n",
              "      <td>1</td>\n",
              "      <td>23</td>\n",
              "      <td>1</td>\n",
              "      <td>20</td>\n",
              "      <td>3</td>\n",
              "      <td>0</td>\n",
              "    </tr>\n",
              "    <tr>\n",
              "      <th>66</th>\n",
              "      <td>12h00</td>\n",
              "      <td>Fr</td>\n",
              "      <td>05-03</td>\n",
              "      <td>2019</td>\n",
              "      <td>Football</td>\n",
              "      <td>European Champ.</td>\n",
              "      <td>Group</td>\n",
              "      <td>Rnd 1</td>\n",
              "      <td>Tolka Park - Dublin</td>\n",
              "      <td>Bob Browaeys</td>\n",
              "      <td>Belgium U17</td>\n",
              "      <td>D</td>\n",
              "      <td>1 – 1</td>\n",
              "      <td>0 – 0</td>\n",
              "      <td>Czech Republic U17</td>\n",
              "      <td>Vaclav Kotal</td>\n",
              "      <td>56%</td>\n",
              "      <td>9</td>\n",
              "      <td>2</td>\n",
              "      <td>2</td>\n",
              "      <td>1</td>\n",
              "      <td>22</td>\n",
              "      <td>7</td>\n",
              "      <td>2</td>\n",
              "      <td>29</td>\n",
              "      <td>1</td>\n",
              "      <td>18</td>\n",
              "      <td>5</td>\n",
              "      <td>1</td>\n",
              "    </tr>\n",
              "  </tbody>\n",
              "</table>\n",
              "<p>67 rows × 29 columns</p>\n",
              "</div>"
            ],
            "text/plain": [
              "     time day   date  year  ... Goalkeeper Saves Fouls Yellow Cards Red Cards\n",
              "0   19h00  Mo  05-13  2019  ...                4    13            3         0\n",
              "1   19h00  Mo  05-13  2019  ...                6    18            3         0\n",
              "2   16h30  Mo  05-16  2019  ...                2    24            4         0\n",
              "3   16h30  Mo  05-16  2019  ...                3    19            3         0\n",
              "4   19h00  Mo  05-16  2019  ...                0     7            0         0\n",
              "..    ...  ..    ...   ...  ...              ...   ...          ...       ...\n",
              "62  14h00  Sa  05-04  2019  ...                0    21            0         0\n",
              "63  19h00  Fr  05-03  2019  ...                2    19            4         0\n",
              "64  19h00  Fr  05-03  2019  ...                0    13            2         0\n",
              "65  12h00  Fr  05-03  2019  ...                1    20            3         0\n",
              "66  12h00  Fr  05-03  2019  ...                1    18            5         1\n",
              "\n",
              "[67 rows x 29 columns]"
            ]
          },
          "metadata": {
            "tags": []
          },
          "execution_count": 36
        }
      ]
    },
    {
      "cell_type": "markdown",
      "metadata": {
        "id": "BC3k5YQSLYeS",
        "colab_type": "text"
      },
      "source": [
        ""
      ]
    }
  ]
}